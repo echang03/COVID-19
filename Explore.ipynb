{
 "cells": [
  {
   "cell_type": "markdown",
   "metadata": {},
   "source": [
    "# Exploration of time series data"
   ]
  },
  {
   "cell_type": "code",
   "execution_count": 1,
   "metadata": {},
   "outputs": [],
   "source": [
    "import pandas as pd"
   ]
  },
  {
   "cell_type": "code",
   "execution_count": 2,
   "metadata": {},
   "outputs": [],
   "source": [
    "import seaborn as sns"
   ]
  },
  {
   "cell_type": "code",
   "execution_count": 3,
   "metadata": {},
   "outputs": [],
   "source": [
    "confirmed= pd.read_csv('csse_covid_19_data/csse_covid_19_time_series/time_series_19-covid-Confirmed.csv')\n",
    "deaths= pd.read_csv('csse_covid_19_data/csse_covid_19_time_series/time_series_19-covid-Deaths.csv')\n",
    "recovered= pd.read_csv('csse_covid_19_data/csse_covid_19_time_series/time_series_19-covid-Recovered.csv')\n",
    "\n",
    "#where to insert additional columns\n",
    "n = 4\n",
    "confirmed.insert(n, 'status', 'confirmed') \n",
    "deaths.insert(n, 'status', 'deaths') \n",
    "recovered.insert(n, \"status\", 'recovered') "
   ]
  },
  {
   "cell_type": "markdown",
   "metadata": {},
   "source": [
    "# Goal: Organize data into one long data set\n",
    "<ol>\n",
    "    <li> Province/State </li>\n",
    "    <li> Country/Region </li>\n",
    "    <li> Lat </li>\n",
    "    <li> Long </li>\n",
    "    <li> As Of </li>\n",
    "    <li> Confirmed </li>\n",
    "    <li> Deaths </li>\n",
    "    <li> Recovered </li>\n",
    "</ol>"
   ]
  },
  {
   "cell_type": "code",
   "execution_count": 4,
   "metadata": {},
   "outputs": [],
   "source": [
    "# get initial list\n",
    "# clean up column headers -- convert column headers to datetimes, make lower case, remove slashes\n",
    "df = confirmed\n",
    "dates_to_strings = pd.to_datetime(df.columns[n+1:]).to_period('d').strftime('%Y-%m-%d')\n",
    "df.columns = df.columns[:n+1].str.lower().str.replace('/','_').tolist() + dates_to_strings.tolist()\n",
    "full_set = pd.melt(df, id_vars=df.columns[:n], value_vars=df.columns[n+1:], var_name ='date', value_name=df.status[0])\n",
    "\n",
    "# execute on other data sets\n",
    "other_dfs = [deaths, recovered]\n",
    "for df in other_dfs:\n",
    "    dates_to_strings = pd.to_datetime(df.columns[n+1:]).to_period('d').strftime('%Y-%m-%d')\n",
    "    df.columns = df.columns[:n+1].str.lower().str.replace('/','_').tolist() + dates_to_strings.tolist()\n",
    "    data_to_merge = pd.melt(df, id_vars=df.columns[:n], value_vars=df.columns[n+1:],var_name ='date', value_name=df.status[0])\n",
    "    full_set = full_set.merge(data_to_merge, how='left', on =['province_state', 'country_region', 'lat', 'long', 'date'])"
   ]
  },
  {
   "cell_type": "code",
   "execution_count": 5,
   "metadata": {},
   "outputs": [
    {
     "data": {
      "text/html": [
       "<div>\n",
       "<style scoped>\n",
       "    .dataframe tbody tr th:only-of-type {\n",
       "        vertical-align: middle;\n",
       "    }\n",
       "\n",
       "    .dataframe tbody tr th {\n",
       "        vertical-align: top;\n",
       "    }\n",
       "\n",
       "    .dataframe thead th {\n",
       "        text-align: right;\n",
       "    }\n",
       "</style>\n",
       "<table border=\"1\" class=\"dataframe\">\n",
       "  <thead>\n",
       "    <tr style=\"text-align: right;\">\n",
       "      <th></th>\n",
       "      <th>province_state</th>\n",
       "      <th>country_region</th>\n",
       "      <th>lat</th>\n",
       "      <th>long</th>\n",
       "      <th>date</th>\n",
       "      <th>confirmed</th>\n",
       "      <th>deaths</th>\n",
       "      <th>recovered</th>\n",
       "    </tr>\n",
       "  </thead>\n",
       "  <tbody>\n",
       "    <tr>\n",
       "      <th>0</th>\n",
       "      <td>NaN</td>\n",
       "      <td>Thailand</td>\n",
       "      <td>15.0000</td>\n",
       "      <td>101.0000</td>\n",
       "      <td>2020-01-22</td>\n",
       "      <td>2</td>\n",
       "      <td>0</td>\n",
       "      <td>0</td>\n",
       "    </tr>\n",
       "    <tr>\n",
       "      <th>1</th>\n",
       "      <td>NaN</td>\n",
       "      <td>Japan</td>\n",
       "      <td>36.0000</td>\n",
       "      <td>138.0000</td>\n",
       "      <td>2020-01-22</td>\n",
       "      <td>2</td>\n",
       "      <td>0</td>\n",
       "      <td>0</td>\n",
       "    </tr>\n",
       "    <tr>\n",
       "      <th>2</th>\n",
       "      <td>NaN</td>\n",
       "      <td>Singapore</td>\n",
       "      <td>1.2833</td>\n",
       "      <td>103.8333</td>\n",
       "      <td>2020-01-22</td>\n",
       "      <td>0</td>\n",
       "      <td>0</td>\n",
       "      <td>0</td>\n",
       "    </tr>\n",
       "    <tr>\n",
       "      <th>3</th>\n",
       "      <td>NaN</td>\n",
       "      <td>Nepal</td>\n",
       "      <td>28.1667</td>\n",
       "      <td>84.2500</td>\n",
       "      <td>2020-01-22</td>\n",
       "      <td>0</td>\n",
       "      <td>0</td>\n",
       "      <td>0</td>\n",
       "    </tr>\n",
       "    <tr>\n",
       "      <th>4</th>\n",
       "      <td>NaN</td>\n",
       "      <td>Malaysia</td>\n",
       "      <td>2.5000</td>\n",
       "      <td>112.5000</td>\n",
       "      <td>2020-01-22</td>\n",
       "      <td>0</td>\n",
       "      <td>0</td>\n",
       "      <td>0</td>\n",
       "    </tr>\n",
       "  </tbody>\n",
       "</table>\n",
       "</div>"
      ],
      "text/plain": [
       "  province_state country_region      lat      long        date  confirmed  \\\n",
       "0            NaN       Thailand  15.0000  101.0000  2020-01-22          2   \n",
       "1            NaN          Japan  36.0000  138.0000  2020-01-22          2   \n",
       "2            NaN      Singapore   1.2833  103.8333  2020-01-22          0   \n",
       "3            NaN          Nepal  28.1667   84.2500  2020-01-22          0   \n",
       "4            NaN       Malaysia   2.5000  112.5000  2020-01-22          0   \n",
       "\n",
       "   deaths  recovered  \n",
       "0       0          0  \n",
       "1       0          0  \n",
       "2       0          0  \n",
       "3       0          0  \n",
       "4       0          0  "
      ]
     },
     "execution_count": 5,
     "metadata": {},
     "output_type": "execute_result"
    }
   ],
   "source": [
    "full_set.head()"
   ]
  },
  {
   "cell_type": "code",
   "execution_count": 7,
   "metadata": {},
   "outputs": [],
   "source": [
    "full_set.to_csv('covid_test.csv')"
   ]
  },
  {
   "cell_type": "code",
   "execution_count": null,
   "metadata": {},
   "outputs": [],
   "source": []
  }
 ],
 "metadata": {
  "kernelspec": {
   "display_name": "Python 3",
   "language": "python",
   "name": "python3"
  },
  "language_info": {
   "codemirror_mode": {
    "name": "ipython",
    "version": 3
   },
   "file_extension": ".py",
   "mimetype": "text/x-python",
   "name": "python",
   "nbconvert_exporter": "python",
   "pygments_lexer": "ipython3",
   "version": "3.7.3"
  }
 },
 "nbformat": 4,
 "nbformat_minor": 2
}
